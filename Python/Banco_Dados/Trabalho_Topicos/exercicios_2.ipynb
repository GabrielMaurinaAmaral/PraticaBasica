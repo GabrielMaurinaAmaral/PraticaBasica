{
 "cells": [
  {
   "cell_type": "code",
   "execution_count": null,
   "metadata": {},
   "outputs": [
    {
     "ename": "",
     "evalue": "",
     "output_type": "error",
     "traceback": [
      "\u001b[1;31mRunning cells with 'c:\\Users\\GABRIEL\\AppData\\Local\\Programs\\Python\\Python311\\python.exe' requires the ipykernel package.\n",
      "\u001b[1;31mRun the following command to install 'ipykernel' into the Python environment. \n",
      "\u001b[1;31mCommand: 'c:/Users/GABRIEL/AppData/Local/Programs/Python/Python311/python.exe -m pip install ipykernel -U --user --force-reinstall'"
     ]
    }
   ],
   "source": [
    "\"\"\"\n",
    "1) Considere o dataset CompanhiaMB.csv. \n",
    "- Identifique os tipos de dados para cada variável (categórico, numérico...)\n",
    "- Veja o catálogo From Data to Viz (https://www.data-to-viz.com/)\n",
    "- Identifique qual mapeamento visual é o mais indicado para os seus dados e, se você julgar que aquele paradigma visual realmente é a melhor escolha, apresente seus dados com a visualização\n",
    "- Descreva os insights que a visualização proporcionou para os seus dados\n",
    "- Entrega no Moodle até 6/4. (Entregar o notebook .ipynb ou arquivo .py)\n",
    "\"\"\"\n",
    "\n",
    "import pandas as pd\n",
    "import numpy as np\n",
    "import matplotlib.pyplot as plt \n",
    "import seaborn as sns\n",
    "\n",
    "data = pd.read_csv(\"C:/Users/GABRIEL/OneDrive - alunos.utfpr.edu.br/Material-UTFPR/5° Periodo/Topicos em Informatica/Topicos_Indormatica/Data-Science-main/3_Visualizacao_de_dados/CompanhiaMB.csv\")\n",
    "print(data)\n",
    "\n",
    "#funcionario, numerico int -> 1 a 36 \n",
    "print('\\n',data['funcionario'])\n",
    "#estado_civil, categorica -> solteiro ou casado\n",
    "print('\\n',data['estado_civil'])\n",
    "#instrucao, categorico -> ensino_fundamental, ensino_medio ou superior\n",
    "print('\\n',data['instrucao'] )\n",
    "#nfilhos, numerico int -> 0 a 5\n",
    "print('\\n',data['nfilhos'] )\n",
    "#salario, numerico float -> 4.00 a 23.30\n",
    "print('\\n',data['salario'])\n",
    "#idade_anos, numerio int -> 23 a 48\n",
    "print('\\n',data['idade_anos'])\n",
    "#idade_meses, numerio int -> 0 a 11\n",
    "print('\\n',data['idade_meses'])\n",
    "#regiao,categorico -> outro, interior ou capital\n",
    "print('\\n',data['regiao'])\n",
    "\n",
    "# Cria o gráfico de pizza\n",
    "contagem = data['estado_civil'].value_counts()\n",
    "plt.pie(contagem.values, labels=contagem.index, colors=['blue', 'green'], autopct='%1.1f%%', startangle=140)\n",
    "plt.title('Quantidade de Pessoas Solteiras e Casadas')\n",
    "plt.show()\n",
    "\n",
    "# noção de quantos solteiros ou casados tem em cada regiao e a idade\n",
    "sns.boxplot(x='regiao', y='idade_anos', hue='estado_civil', data=data)\n",
    "plt.title('Distribuição da solteiro e casados por regiao')\n",
    "plt.legend()\n",
    "plt.show()\n",
    "\n",
    "contagem = data['estado_civil'].value_counts()\n",
    "plt.pie(contagem.values, labels=contagem.index, colors=['blue', 'green'], autopct='%1.1f%%', startangle=140)\n",
    "plt.title('Quantidade de Pessoas Solteiras e Casadas')\n",
    "plt.show()"
   ]
  }
 ],
 "metadata": {
  "kernelspec": {
   "display_name": "Python 3",
   "language": "python",
   "name": "python3"
  },
  "language_info": {
   "name": "python",
   "version": "3.11.3"
  },
  "orig_nbformat": 4
 },
 "nbformat": 4,
 "nbformat_minor": 2
}
